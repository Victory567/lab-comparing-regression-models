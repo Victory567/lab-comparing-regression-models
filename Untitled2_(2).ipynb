{
  "cells": [
    {
      "cell_type": "markdown",
      "metadata": {
        "id": "view-in-github",
        "colab_type": "text"
      },
      "source": [
        "<a href=\"https://colab.research.google.com/github/Victory567/lab-comparing-regression-models/blob/master/Untitled2_(2).ipynb\" target=\"_parent\"><img src=\"https://colab.research.google.com/assets/colab-badge.svg\" alt=\"Open In Colab\"/></a>"
      ]
    },
    {
      "cell_type": "code",
      "execution_count": null,
      "id": "769e6229",
      "metadata": {
        "id": "769e6229"
      },
      "outputs": [],
      "source": [
        "import pandas as pd\n",
        "import numpy as np\n",
        "import datetime\n",
        "import warnings\n",
        "import matplotlib.pyplot as plt\n",
        "import seaborn as sns\n",
        "from sklearn.preprocessing import MinMaxScaler"
      ]
    },
    {
      "cell_type": "code",
      "execution_count": null,
      "id": "7232bb8b",
      "metadata": {
        "id": "7232bb8b"
      },
      "outputs": [],
      "source": [
        "df = pd.read_csv('we_fn_use_c_marketing_customer_value_analysis.csv')"
      ]
    },
    {
      "cell_type": "code",
      "execution_count": null,
      "id": "2cc073ee",
      "metadata": {
        "id": "2cc073ee",
        "outputId": "dab829f2-7f74-4eb9-f298-c40073346a4c"
      },
      "outputs": [
        {
          "data": {
            "text/html": [
              "<div>\n",
              "<style scoped>\n",
              "    .dataframe tbody tr th:only-of-type {\n",
              "        vertical-align: middle;\n",
              "    }\n",
              "\n",
              "    .dataframe tbody tr th {\n",
              "        vertical-align: top;\n",
              "    }\n",
              "\n",
              "    .dataframe thead th {\n",
              "        text-align: right;\n",
              "    }\n",
              "</style>\n",
              "<table border=\"1\" class=\"dataframe\">\n",
              "  <thead>\n",
              "    <tr style=\"text-align: right;\">\n",
              "      <th></th>\n",
              "      <th>0</th>\n",
              "      <th>1</th>\n",
              "      <th>2</th>\n",
              "    </tr>\n",
              "  </thead>\n",
              "  <tbody>\n",
              "    <tr>\n",
              "      <th>0</th>\n",
              "      <td>0.325678</td>\n",
              "      <td>0.911278</td>\n",
              "      <td>0.886636</td>\n",
              "    </tr>\n",
              "    <tr>\n",
              "      <th>1</th>\n",
              "      <td>-0.051198</td>\n",
              "      <td>-0.359722</td>\n",
              "      <td>-1.536399</td>\n",
              "    </tr>\n",
              "    <tr>\n",
              "      <th>2</th>\n",
              "      <td>1.331537</td>\n",
              "      <td>1.411416</td>\n",
              "      <td>1.006363</td>\n",
              "    </tr>\n",
              "    <tr>\n",
              "      <th>3</th>\n",
              "      <td>0.481532</td>\n",
              "      <td>-0.447370</td>\n",
              "      <td>-0.325563</td>\n",
              "    </tr>\n",
              "    <tr>\n",
              "      <th>4</th>\n",
              "      <td>1.278778</td>\n",
              "      <td>-0.380892</td>\n",
              "      <td>1.232012</td>\n",
              "    </tr>\n",
              "    <tr>\n",
              "      <th>...</th>\n",
              "      <td>...</td>\n",
              "      <td>...</td>\n",
              "      <td>...</td>\n",
              "    </tr>\n",
              "    <tr>\n",
              "      <th>95</th>\n",
              "      <td>1.342399</td>\n",
              "      <td>0.069235</td>\n",
              "      <td>-0.259530</td>\n",
              "    </tr>\n",
              "    <tr>\n",
              "      <th>96</th>\n",
              "      <td>-0.929803</td>\n",
              "      <td>-1.288776</td>\n",
              "      <td>-0.926249</td>\n",
              "    </tr>\n",
              "    <tr>\n",
              "      <th>97</th>\n",
              "      <td>1.284923</td>\n",
              "      <td>-0.790253</td>\n",
              "      <td>0.590807</td>\n",
              "    </tr>\n",
              "    <tr>\n",
              "      <th>98</th>\n",
              "      <td>-0.457179</td>\n",
              "      <td>-0.865944</td>\n",
              "      <td>0.477473</td>\n",
              "    </tr>\n",
              "    <tr>\n",
              "      <th>99</th>\n",
              "      <td>-0.514317</td>\n",
              "      <td>-1.790367</td>\n",
              "      <td>0.530692</td>\n",
              "    </tr>\n",
              "  </tbody>\n",
              "</table>\n",
              "<p>100 rows × 3 columns</p>\n",
              "</div>"
            ],
            "text/plain": [
              "           0         1         2\n",
              "0   0.325678  0.911278  0.886636\n",
              "1  -0.051198 -0.359722 -1.536399\n",
              "2   1.331537  1.411416  1.006363\n",
              "3   0.481532 -0.447370 -0.325563\n",
              "4   1.278778 -0.380892  1.232012\n",
              "..       ...       ...       ...\n",
              "95  1.342399  0.069235 -0.259530\n",
              "96 -0.929803 -1.288776 -0.926249\n",
              "97  1.284923 -0.790253  0.590807\n",
              "98 -0.457179 -0.865944  0.477473\n",
              "99 -0.514317 -1.790367  0.530692\n",
              "\n",
              "[100 rows x 3 columns]"
            ]
          },
          "execution_count": 3,
          "metadata": {},
          "output_type": "execute_result"
        }
      ],
      "source": [
        "df = pd.DataFrame(np.random.randn(100, 3))\n",
        "\n",
        "import numpy as np\n",
        "from scipy import stats\n",
        "df[(np.abs(stats.zscore(df)) < 3).all(axis=1)]"
      ]
    },
    {
      "cell_type": "code",
      "execution_count": null,
      "id": "5006baa1",
      "metadata": {
        "id": "5006baa1",
        "outputId": "532cbbc0-d9dd-45cb-863b-4feadb2a1741"
      },
      "outputs": [
        {
          "data": {
            "text/html": [
              "<div>\n",
              "<style scoped>\n",
              "    .dataframe tbody tr th:only-of-type {\n",
              "        vertical-align: middle;\n",
              "    }\n",
              "\n",
              "    .dataframe tbody tr th {\n",
              "        vertical-align: top;\n",
              "    }\n",
              "\n",
              "    .dataframe thead th {\n",
              "        text-align: right;\n",
              "    }\n",
              "</style>\n",
              "<table border=\"1\" class=\"dataframe\">\n",
              "  <thead>\n",
              "    <tr style=\"text-align: right;\">\n",
              "      <th></th>\n",
              "      <th>Data</th>\n",
              "    </tr>\n",
              "  </thead>\n",
              "  <tbody>\n",
              "    <tr>\n",
              "      <th>0</th>\n",
              "      <td>-1.362583</td>\n",
              "    </tr>\n",
              "    <tr>\n",
              "      <th>1</th>\n",
              "      <td>-0.947096</td>\n",
              "    </tr>\n",
              "    <tr>\n",
              "      <th>2</th>\n",
              "      <td>-0.274835</td>\n",
              "    </tr>\n",
              "    <tr>\n",
              "      <th>3</th>\n",
              "      <td>0.502156</td>\n",
              "    </tr>\n",
              "    <tr>\n",
              "      <th>4</th>\n",
              "      <td>0.121288</td>\n",
              "    </tr>\n",
              "    <tr>\n",
              "      <th>...</th>\n",
              "      <td>...</td>\n",
              "    </tr>\n",
              "    <tr>\n",
              "      <th>195</th>\n",
              "      <td>-1.004079</td>\n",
              "    </tr>\n",
              "    <tr>\n",
              "      <th>196</th>\n",
              "      <td>-0.536479</td>\n",
              "    </tr>\n",
              "    <tr>\n",
              "      <th>197</th>\n",
              "      <td>1.491338</td>\n",
              "    </tr>\n",
              "    <tr>\n",
              "      <th>198</th>\n",
              "      <td>-0.070154</td>\n",
              "    </tr>\n",
              "    <tr>\n",
              "      <th>199</th>\n",
              "      <td>-0.221433</td>\n",
              "    </tr>\n",
              "  </tbody>\n",
              "</table>\n",
              "<p>200 rows × 1 columns</p>\n",
              "</div>"
            ],
            "text/plain": [
              "         Data\n",
              "0   -1.362583\n",
              "1   -0.947096\n",
              "2   -0.274835\n",
              "3    0.502156\n",
              "4    0.121288\n",
              "..        ...\n",
              "195 -1.004079\n",
              "196 -0.536479\n",
              "197  1.491338\n",
              "198 -0.070154\n",
              "199 -0.221433\n",
              "\n",
              "[200 rows x 1 columns]"
            ]
          },
          "execution_count": 4,
          "metadata": {},
          "output_type": "execute_result"
        }
      ],
      "source": [
        "df = pd.DataFrame({'Data':np.random.normal(size=200)})\n",
        "df[np.abs(df.Data-df.Data.mean()) <= (3*df.Data.std())]\n",
        "df[~(np.abs(df.Data-df.Data.mean()) > (3*df.Data.std()))]\n"
      ]
    },
    {
      "cell_type": "code",
      "execution_count": null,
      "id": "7d7692e2",
      "metadata": {
        "id": "7d7692e2"
      },
      "outputs": [],
      "source": [
        "def remove_outlier(df_in, col_name):\n",
        "    q1 = df_in[col_name].quantile(0.25)\n",
        "    q3 = df_in[col_name].quantile(0.75)\n",
        "    iqr = q3-q1 #Interquartile range\n",
        "    fence_low  = q1-1.5*iqr\n",
        "    fence_high = q3+1.5*iqr\n",
        "    df_out = df_in.loc[(df_in[col_name] > fence_low) & (df_in[col_name] < fence_high)]\n",
        "    return df_out"
      ]
    },
    {
      "cell_type": "code",
      "execution_count": null,
      "id": "d42dc25e",
      "metadata": {
        "id": "d42dc25e"
      },
      "outputs": [],
      "source": [
        "df = pd.DataFrame(\n",
        "[[4, 7, 10],\n",
        "[5, 8, 11],\n",
        "[6, 9, 12]],\n",
        "index=[1, 2, 3],\n",
        "columns=['a', 'b', 'c'])"
      ]
    },
    {
      "cell_type": "code",
      "execution_count": null,
      "id": "2bae2c8a",
      "metadata": {
        "id": "2bae2c8a"
      },
      "outputs": [],
      "source": [
        "X = df.select_dtypes(np.number)\n"
      ]
    },
    {
      "cell_type": "code",
      "execution_count": null,
      "id": "f3956a23",
      "metadata": {
        "id": "f3956a23"
      },
      "outputs": [],
      "source": [
        " scaler = MinMaxScaler()\n",
        "X_num_transform=scaler.fit_transform(X)"
      ]
    },
    {
      "cell_type": "code",
      "execution_count": null,
      "id": "1ee22ae5",
      "metadata": {
        "id": "1ee22ae5",
        "outputId": "b2ca1841-ce4d-4eb4-8480-6a3f931b70b2"
      },
      "outputs": [
        {
          "data": {
            "text/plain": [
              "array([[0. , 0. , 0. ],\n",
              "       [0.5, 0.5, 0.5],\n",
              "       [1. , 1. , 1. ]])"
            ]
          },
          "execution_count": 9,
          "metadata": {},
          "output_type": "execute_result"
        }
      ],
      "source": [
        "X_num_transform"
      ]
    },
    {
      "cell_type": "code",
      "execution_count": null,
      "id": "be40d7f2",
      "metadata": {
        "id": "be40d7f2",
        "outputId": "612a1b29-065f-47d6-ea19-ab44f692184d"
      },
      "outputs": [
        {
          "data": {
            "text/plain": [
              "False"
            ]
          },
          "execution_count": 10,
          "metadata": {},
          "output_type": "execute_result"
        }
      ],
      "source": [
        "import pandas as pd\n",
        ">>> df = pd.DataFrame({'numeric': [1, 2, 3], 'not_numeric': ['A', 'B', 'C']})\n",
        ">>> df['numeric'].dtype.kind in 'biufc'\n",
        ">>> True\n",
        ">>> df['not_numeric'].dtype.kind in 'biufc'\n",
        ">>> False"
      ]
    },
    {
      "cell_type": "code",
      "execution_count": null,
      "id": "6b208ab0",
      "metadata": {
        "id": "6b208ab0",
        "outputId": "44777bd6-decf-47a3-db15-b79f8b5aeb52"
      },
      "outputs": [
        {
          "name": "stdout",
          "output_type": "stream",
          "text": [
            "A    1\n",
            "B    1\n",
            "C    1\n",
            "Name: not_numeric, dtype: int64 \n",
            "\n"
          ]
        }
      ],
      "source": [
        "for col in df.select_dtypes('object'):\n",
        "    print(df[col].value_counts(), '\\n')"
      ]
    },
    {
      "cell_type": "code",
      "execution_count": null,
      "id": "6d0e912c",
      "metadata": {
        "id": "6d0e912c"
      },
      "outputs": [],
      "source": [
        "import numpy as np\n",
        "from sklearn.model_selection import train_test_split"
      ]
    },
    {
      "cell_type": "code",
      "execution_count": null,
      "id": "741477ac",
      "metadata": {
        "id": "741477ac"
      },
      "outputs": [],
      "source": [
        "import numpy as np\n",
        ">>> from sklearn.linear_model import LinearRegression\n",
        ">>> from sklearn.model_selection import train_test_split"
      ]
    },
    {
      "cell_type": "code",
      "execution_count": null,
      "id": "dcf5c9e6",
      "metadata": {
        "id": "dcf5c9e6"
      },
      "outputs": [],
      "source": [
        ">>> x = np.arange(20).reshape(-1, 1)\n",
        ">>> y = np.array([5, 12, 11, 19, 30, 29, 23, 40, 51, 54, 74,\n",
        "...               62, 68, 73, 89, 84, 89, 101, 99, 106])\n",
        ">>> x\n",
        "([[ 0],\n",
        "       [ 1],\n",
        "       [ 2],\n",
        "       [ 3],\n",
        "       [ 4],\n",
        "       [ 5],\n",
        "       [ 6],\n",
        "       [ 7],\n",
        "       [ 8],\n",
        "       [ 9],\n",
        "       [10],\n",
        "       [11],\n",
        "       [12],\n",
        "       [13],\n",
        "       [14],\n",
        "       [15],\n",
        "       [16],\n",
        "       [17],\n",
        "       [18],\n",
        "       [19]])\n",
        ">>> y\n",
        "([  5,  12,  11,  19,  30,  29,  23,  40,  51,  54,  74,  62,  68,\n",
        "        73,  89,  84,  89, 101,  99, 106])\n",
        ">>> x_train, x_test, y_train, y_test = train_test_split(\n",
        "...     x, y, test_size=8, random_state=0\n",
        "... )"
      ]
    },
    {
      "cell_type": "code",
      "execution_count": null,
      "id": "b4c40a47",
      "metadata": {
        "id": "b4c40a47",
        "outputId": "9fce3d5b-2c5f-44ce-b757-5c513ce4311d"
      },
      "outputs": [
        {
          "data": {
            "text/plain": [
              "[5.53121801]"
            ]
          },
          "execution_count": 23,
          "metadata": {},
          "output_type": "execute_result"
        }
      ],
      "source": [
        ">>> model = LinearRegression().fit(x_train, y_train)\n",
        ">>> model.intercept_\n",
        "3.1617195496417523\n",
        ">>> model.coef_\n",
        "([5.53121801])"
      ]
    },
    {
      "cell_type": "code",
      "execution_count": null,
      "id": "5092c577",
      "metadata": {
        "id": "5092c577"
      },
      "outputs": [],
      "source": [
        "from sklearn.neighbors import NearestNeighbors\n",
        "import numpy as np"
      ]
    },
    {
      "cell_type": "code",
      "execution_count": null,
      "id": "6b491727",
      "metadata": {
        "id": "6b491727"
      },
      "outputs": [],
      "source": [
        "from array import array"
      ]
    },
    {
      "cell_type": "code",
      "execution_count": null,
      "id": "eb821a51",
      "metadata": {
        "id": "eb821a51"
      },
      "outputs": [],
      "source": [
        "from numpy import int64\n"
      ]
    },
    {
      "cell_type": "code",
      "execution_count": null,
      "id": "e3016146",
      "metadata": {
        "id": "e3016146"
      },
      "outputs": [],
      "source": [
        "Input_data = np.array([[-1, 1], [-2, 2], [-3, 3], [1, 2], [2, 3], [3, 4],[4, 5]])\n"
      ]
    },
    {
      "cell_type": "code",
      "execution_count": null,
      "id": "f1e1e77c",
      "metadata": {
        "id": "f1e1e77c"
      },
      "outputs": [],
      "source": [
        "nrst_neigh = NearestNeighbors(n_neighbors = 3, algorithm = 'ball_tree')\n"
      ]
    },
    {
      "cell_type": "code",
      "execution_count": null,
      "id": "daa13f3e",
      "metadata": {
        "id": "daa13f3e",
        "outputId": "274ffa43-730d-4e61-f119-317364fe1db7"
      },
      "outputs": [
        {
          "name": "stdout",
          "output_type": "stream",
          "text": [
            "[0.5]\n"
          ]
        }
      ],
      "source": [
        ">>> X = [[0], [1], [2], [3]]\n",
        ">>> y = [0, 0, 1, 1]\n",
        ">>> from sklearn.neighbors import KNeighborsRegressor\n",
        ">>> neigh = KNeighborsRegressor(n_neighbors=2)\n",
        ">>> neigh.fit(X, y)\n",
        "KNeighborsRegressor(...)\n",
        ">>> print(neigh.predict([[1.5]]))"
      ]
    },
    {
      "cell_type": "code",
      "execution_count": null,
      "id": "60f01fae",
      "metadata": {
        "id": "60f01fae",
        "outputId": "33193013-0ef4-4ac7-b9ae-da4f4e4b22ab"
      },
      "outputs": [
        {
          "name": "stderr",
          "output_type": "stream",
          "text": [
            "C:\\Users\\Dell\\anaconda3\\lib\\site-packages\\sklearn\\neural_network\\_multilayer_perceptron.py:702: ConvergenceWarning: Stochastic Optimizer: Maximum iterations (500) reached and the optimization hasn't converged yet.\n",
            "  warnings.warn(\n"
          ]
        },
        {
          "data": {
            "text/plain": [
              "0.4162338898076593"
            ]
          },
          "execution_count": 15,
          "metadata": {},
          "output_type": "execute_result"
        }
      ],
      "source": [
        ">>> from sklearn.neural_network import MLPRegressor\n",
        ">>> from sklearn.datasets import make_regression\n",
        ">>> from sklearn.model_selection import train_test_split\n",
        ">>> X, y = make_regression(n_samples=200, random_state=1)\n",
        ">>> X_train, X_test, y_train, y_test = train_test_split(X, y,\n",
        "...                                                     random_state=1)\n",
        ">>> regr = MLPRegressor(random_state=1, max_iter=500).fit(X_train, y_train)\n",
        ">>> regr.predict(X_test[:2])\n",
        "\n",
        ">>> regr.score(X_test, y_test)\n"
      ]
    },
    {
      "cell_type": "code",
      "execution_count": null,
      "id": "054c85a1",
      "metadata": {
        "id": "054c85a1"
      },
      "outputs": [],
      "source": []
    }
  ],
  "metadata": {
    "kernelspec": {
      "display_name": "Python 3 (ipykernel)",
      "language": "python",
      "name": "python3"
    },
    "language_info": {
      "codemirror_mode": {
        "name": "ipython",
        "version": 3
      },
      "file_extension": ".py",
      "mimetype": "text/x-python",
      "name": "python",
      "nbconvert_exporter": "python",
      "pygments_lexer": "ipython3",
      "version": "3.9.12"
    },
    "colab": {
      "provenance": [],
      "include_colab_link": true
    }
  },
  "nbformat": 4,
  "nbformat_minor": 5
}